{
 "cells": [
  {
   "cell_type": "markdown",
   "id": "6519f30f",
   "metadata": {},
   "source": [
    "# GANS/Cyclic GANS For Data Augmentation and Neural Style Transfer"
   ]
  },
  {
   "cell_type": "code",
   "execution_count": 1,
   "id": "3e9dccdb",
   "metadata": {},
   "outputs": [],
   "source": [
    "import tensorflow as tf\n",
    "import glob\n",
    "import numpy as np\n",
    "import matplotlib.pyplot as plt\n",
    "\n",
    "# Model class\n",
    "from tensorflow.keras.models import Model\n",
    "\n",
    "# Layers\n",
    "from tensorflow.keras.layers import Flatten, Conv2D, Dense, MaxPool2D\n",
    "\n",
    "# Optimizer\n",
    "from tensorflow.keras.optimizers import Adam\n",
    "\n",
    "# Loss function\n",
    "from tensorflow.keras.losses import BinaryCrossentropy\n",
    "\n",
    "# Data loader\n",
    "from tensorflow.keras.utils import Sequence\n",
    "\n",
    "# Metrics\n",
    "from tensorflow.keras.metrics import BinaryAccuracy, Recall\n",
    "\n",
    "# ImageLoader\n",
    "from skimage.io import imread\n",
    "\n",
    "# Dataset\n",
    "import tensorflow_datasets as tfds \n",
    "\n",
    "# Progress Bar\n",
    "from tensorflow.keras.utils import Progbar"
   ]
  },
  {
   "cell_type": "markdown",
   "id": "182edc09",
   "metadata": {},
   "source": [
    "## Getting The Data"
   ]
  },
  {
   "cell_type": "code",
   "execution_count": null,
   "id": "e4709b33",
   "metadata": {},
   "outputs": [],
   "source": []
  },
  {
   "cell_type": "markdown",
   "id": "03e83de3",
   "metadata": {},
   "source": [
    "## Pre-Processing The Data"
   ]
  },
  {
   "cell_type": "code",
   "execution_count": 2,
   "id": "a64c3492",
   "metadata": {},
   "outputs": [],
   "source": [
    "# create a dataloader iterator that loads data from directory\n",
    "# batch data\n",
    "# resize to all the same size\n",
    "# split train test\n",
    "# normalize (min-max)"
   ]
  },
  {
   "cell_type": "code",
   "execution_count": 3,
   "id": "9580f4fa",
   "metadata": {},
   "outputs": [],
   "source": [
    "class DataLoader(Sequence):\n",
    "    \n",
    "    def __init__(self, image_dir, batch_size, resize= None, classification= True, training= True):\n",
    "        \n",
    "        self.image_dir = image_dir\n",
    "        self.classification = classification\n",
    "        self.training = training\n",
    "        \n",
    "        self.images_dirs = glob.glob(f\"{self.image_dir}/*.png\")\n",
    "    \n",
    "    def __len__(self):\n",
    "        return \n",
    "    \n",
    "    def __getitem__(self, index):\n",
    "        return\n",
    "    \n",
    "    def add_data(self, batched_data):\n",
    "        return"
   ]
  },
  {
   "cell_type": "code",
   "execution_count": null,
   "id": "71036ca4",
   "metadata": {},
   "outputs": [],
   "source": []
  },
  {
   "cell_type": "markdown",
   "id": "763f1dfc",
   "metadata": {},
   "source": [
    "Show a bit more of the data"
   ]
  },
  {
   "cell_type": "markdown",
   "id": "58ab1109",
   "metadata": {},
   "source": [
    "## Define Metrics For Classification\n",
    "- Accuracy\n",
    "- Precision\n",
    "- Recall"
   ]
  },
  {
   "cell_type": "markdown",
   "id": "da16a602",
   "metadata": {},
   "source": [
    "## Building The Classifier"
   ]
  },
  {
   "cell_type": "code",
   "execution_count": 120,
   "id": "8e60c1c5",
   "metadata": {},
   "outputs": [],
   "source": [
    "class Classifier(Model):\n",
    "    \n",
    "    def __init__(self, name):\n",
    "        super(Classifier, self).__init__(name= name)\n",
    "        \n",
    "    def build(self, input_shape):\n",
    "        \n",
    "        self.conv1 = Conv2D(filters= 50, kernel_size= 3, activation= 'relu', padding= 'same', kernel_initializer= 'glorot_uniform', input_shape= input_shape)\n",
    "        self.maxpool1 = MaxPool2D(pool_size= (2, 2))\n",
    "        \n",
    "        self.conv2 = Conv2D(filters= 20, kernel_size= 3, activation= 'relu', padding= 'valid', kernel_initializer= 'glorot_uniform')\n",
    "        self.maxpool2 = MaxPool2D(pool_size= (2, 2))\n",
    "        \n",
    "        self.conv3 = Conv2D(filters= 5, kernel_size= 3, activation= 'relu', padding= 'valid', kernel_initializer= 'glorot_uniform')\n",
    "        self.maxpool3 = MaxPool2D(pool_size= (2, 2))\n",
    "        \n",
    "        self.flatten = Flatten()\n",
    "        self.dense1 = Dense(units= 50, activation= 'relu', kernel_initializer= 'glorot_uniform')\n",
    "        self.dense2 = Dense(units= 20, activation= 'relu', kernel_initializer= 'glorot_uniform')\n",
    "        self.dense3 = Dense(units= 1, activation= 'sigmoid', kernel_initializer= 'glorot_uniform')\n",
    "        \n",
    "        super(Classifier, self).build(input_shape)\n",
    "    \n",
    "    def call(self, input_):\n",
    "        x = self.conv1(input_)\n",
    "        x = self.maxpool1(x)\n",
    "        \n",
    "        x = self.conv2(x)\n",
    "        x = self.maxpool2(x)\n",
    "        \n",
    "        x = self.conv3(x)\n",
    "        x = self.maxpool3(x)\n",
    "     \n",
    "        x = self.flatten(x)\n",
    "        x = self.dense1(x)\n",
    "        x = self.dense2(x)\n",
    "        \n",
    "        output = self.dense3(x)\n",
    "        return output\n",
    "    \n",
    "    def train_step(self, train_batch):\n",
    "        X_train, y_train = train_batch\n",
    "        \n",
    "        with tf.GradientTape() as tape:\n",
    "            # apply forward pass\n",
    "            y_pred = self(X_train, training= True)\n",
    "            loss = self.compiled_loss(y_train, y_pred, regularization_losses= self.losses)\n",
    "        # calculate gradients - uses reverse gradient autodiff\n",
    "        gradients = tape.gradient(loss, self.trainable_variables)\n",
    "        # backpropagate the gradients and update the weights using the compiled optimizer\n",
    "        self.optimizer.apply_gradients(zip(gradients, self.trainable_variables))\n",
    "        \n",
    "        self.compiled_metrics.update_state(y_train, y_pred)\n",
    "        return {f\"train_{metric.name}\": metric.result() for metric in self.metrics}\n",
    "    \n",
    "    def test_step(self, test_batch):\n",
    "        X_test, y_test = test_batch\n",
    "        # obtain prediciton\n",
    "        y_pred = self(X_test, training= False)\n",
    "        \n",
    "        # updates loss metric\n",
    "        self.compiled_loss(y_test, y_pred)\n",
    "        \n",
    "        # updates metrics\n",
    "        self.compiled_metrics.update_state(y_test, y_pred)\n",
    "        \n",
    "        return {f\"{metric.name}\": metric.result() for metric in self.metrics}"
   ]
  },
  {
   "cell_type": "markdown",
   "id": "ea3308f0",
   "metadata": {},
   "source": [
    "## Traning the Classifier"
   ]
  },
  {
   "cell_type": "code",
   "execution_count": 123,
   "id": "3c14e54e",
   "metadata": {},
   "outputs": [
    {
     "name": "stdout",
     "output_type": "stream",
     "text": [
      "Model: \"cvd\"\n",
      "_________________________________________________________________\n",
      "Layer (type)                 Output Shape              Param #   \n",
      "=================================================================\n",
      "conv2d (Conv2D)              multiple                  1400      \n",
      "_________________________________________________________________\n",
      "max_pooling2d (MaxPooling2D) multiple                  0         \n",
      "_________________________________________________________________\n",
      "conv2d_1 (Conv2D)            multiple                  9020      \n",
      "_________________________________________________________________\n",
      "max_pooling2d_1 (MaxPooling2 multiple                  0         \n",
      "_________________________________________________________________\n",
      "conv2d_2 (Conv2D)            multiple                  905       \n",
      "_________________________________________________________________\n",
      "max_pooling2d_2 (MaxPooling2 multiple                  0         \n",
      "_________________________________________________________________\n",
      "flatten (Flatten)            multiple                  0         \n",
      "_________________________________________________________________\n",
      "dense (Dense)                multiple                  132300    \n",
      "_________________________________________________________________\n",
      "dense_1 (Dense)              multiple                  1020      \n",
      "_________________________________________________________________\n",
      "dense_2 (Dense)              multiple                  21        \n",
      "=================================================================\n",
      "Total params: 144,666\n",
      "Trainable params: 144,666\n",
      "Non-trainable params: 0\n",
      "_________________________________________________________________\n",
      "Epoch 1/10\n",
      "157/157 [==============================] - 5s 27ms/step - train_loss: 0.6921 - train_binary_accuracy: 0.5211 - train_recall: 0.2001 - val_loss: 0.6770 - val_binary_accuracy: 0.5760 - val_recall: 0.7926\n",
      "Epoch 2/10\n",
      "157/157 [==============================] - 4s 25ms/step - train_loss: 0.6836 - train_binary_accuracy: 0.5775 - train_recall: 0.5839 - val_loss: 0.6370 - val_binary_accuracy: 0.6620 - val_recall: 0.6889\n",
      "Epoch 3/10\n",
      "157/157 [==============================] - 4s 25ms/step - train_loss: 0.6321 - train_binary_accuracy: 0.6302 - train_recall: 0.7165 - val_loss: 0.6340 - val_binary_accuracy: 0.6520 - val_recall: 0.7593\n",
      "Epoch 4/10\n",
      "157/157 [==============================] - 4s 25ms/step - train_loss: 0.5684 - train_binary_accuracy: 0.6909 - train_recall: 0.7260 - val_loss: 0.6886 - val_binary_accuracy: 0.6280 - val_recall: 0.6444\n",
      "Epoch 5/10\n",
      "157/157 [==============================] - 4s 25ms/step - train_loss: 0.4667 - train_binary_accuracy: 0.7712 - train_recall: 0.8061 - val_loss: 0.8517 - val_binary_accuracy: 0.6400 - val_recall: 0.6444\n",
      "Epoch 6/10\n",
      "157/157 [==============================] - 4s 25ms/step - train_loss: 0.3644 - train_binary_accuracy: 0.8418 - train_recall: 0.8669 - val_loss: 1.2364 - val_binary_accuracy: 0.5880 - val_recall: 0.4296\n",
      "Epoch 7/10\n",
      "157/157 [==============================] - 4s 25ms/step - train_loss: 0.2948 - train_binary_accuracy: 0.8690 - train_recall: 0.8765 - val_loss: 1.4335 - val_binary_accuracy: 0.5880 - val_recall: 0.4259\n",
      "Epoch 8/10\n",
      "157/157 [==============================] - 4s 25ms/step - train_loss: 0.2837 - train_binary_accuracy: 0.8818 - train_recall: 0.8640 - val_loss: 1.2241 - val_binary_accuracy: 0.5840 - val_recall: 0.7296\n",
      "Epoch 9/10\n",
      "157/157 [==============================] - 4s 25ms/step - train_loss: 0.1859 - train_binary_accuracy: 0.9249 - train_recall: 0.9314 - val_loss: 1.4716 - val_binary_accuracy: 0.6200 - val_recall: 0.7556\n",
      "Epoch 10/10\n",
      "157/157 [==============================] - 4s 26ms/step - train_loss: 0.1015 - train_binary_accuracy: 0.9598 - train_recall: 0.9684 - val_loss: 1.7516 - val_binary_accuracy: 0.6160 - val_recall: 0.7556\n"
     ]
    }
   ],
   "source": [
    "tf.keras.backend.clear_session()\n",
    "\n",
    "with tf.device('/device:GPU:0'):\n",
    "    \n",
    "    cats_dogs_classifier = Classifier(name= \"cvd\")\n",
    "    cats_dogs_classifier.build(input_shape= (None, HEIGHT, WIDTH, 3))\n",
    "\n",
    "    cats_dogs_classifier.summary()\n",
    "    cats_dogs_classifier.compile(optimizer= Adam(0.001), loss= BinaryCrossentropy(), metrics= [BinaryAccuracy(), Recall()])\n",
    "    model_data = cats_dogs_classifier.fit(trainDataset, validation_data= validDataset, epochs= 10)"
   ]
  },
  {
   "cell_type": "code",
   "execution_count": 124,
   "id": "442ac67e",
   "metadata": {},
   "outputs": [
    {
     "data": {
      "image/png": "[encoded data removed]",
      "text/plain": [
       "<Figure size 432x288 with 1 Axes>"
      ]
     },
     "metadata": {
      "needs_background": "light"
     },
     "output_type": "display_data"
    }
   ],
   "source": [
    "plt.plot(model_data.history[\"train_loss\"])\n",
    "plt.plot(model_data.history[\"val_loss\"])\n",
    "plt.ylabel(\"loss\")\n",
    "plt.xlabel(\"epochs\")\n",
    "plt.legend([\"train\", \"val\"], loc= \"upper right\")\n",
    "plt.show()"
   ]
  }
 ],
 "metadata": {
  "kernelspec": {
   "display_name": "tf2",
   "language": "python",
   "name": "tf2"
  },
  "language_info": {
   "codemirror_mode": {
    "name": "ipython",
    "version": 3
   },
   "file_extension": ".py",
   "mimetype": "text/x-python",
   "name": "python",
   "nbconvert_exporter": "python",
   "pygments_lexer": "ipython3",
   "version": "3.9.7"
  }
 },
 "nbformat": 4,
 "nbformat_minor": 5
}
